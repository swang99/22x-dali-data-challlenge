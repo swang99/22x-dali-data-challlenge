{
 "cells": [
  {
   "cell_type": "markdown",
   "metadata": {},
   "source": [
    "### Data Challenge, Part 2"
   ]
  },
  {
   "cell_type": "code",
   "execution_count": 1,
   "metadata": {},
   "outputs": [],
   "source": [
    "#!pip install catboost\n",
    "#!pip install category_encoders\n",
    "\n",
    "import pandas as pd\n",
    "import numpy as np\n",
    "\n",
    "from catboost import CatBoostClassifier, CatBoostRegressor\n",
    "import category_encoders as ce\n",
    "from sklearn.model_selection import train_test_split, cross_val_score, GridSearchCV\n",
    "from sklearn.metrics import accuracy_score, roc_auc_score, confusion_matrix, r2_score, mean_squared_error\n",
    "\n",
    "import seaborn as sns\n",
    "import matplotlib.pyplot as plt"
   ]
  },
  {
   "cell_type": "markdown",
   "metadata": {},
   "source": [
    "## 1. Dataset\n",
    "### 1a. Preprocessing\n",
    "\n",
    "- After loading the provided sales data into pandas, I rounded the profit and sales columns to monetary format, and added another feature called `Ship Time`, the number of days a product took to ship, based on the `Order Date` and `Ship Date`. \n",
    "- To further simplify the dataset, I thought the following columns were worth excluding: `Country`, `City`, `Customer Name`, and `Product Name`. The only country in the dataset was United States, so `Country` does not distinguish any of the transactions. `Customer Name` and `Product Name` were also not needed, because we already have corresponding ID columns `Customer ID` and `Product ID`. Finally, I  thought `City` was not needed, since `Postal Code` basically represents the same thing and is numerical, and we also have enough geographical granularity with the `State` and `Region` columns for a 10,000 row dataset."
   ]
  },
  {
   "cell_type": "code",
   "execution_count": 2,
   "metadata": {
    "scrolled": true
   },
   "outputs": [
    {
     "name": "stdout",
     "output_type": "stream",
     "text": [
      "(9994, 17)\n"
     ]
    },
    {
     "data": {
      "text/html": [
       "<div>\n",
       "<style scoped>\n",
       "    .dataframe tbody tr th:only-of-type {\n",
       "        vertical-align: middle;\n",
       "    }\n",
       "\n",
       "    .dataframe tbody tr th {\n",
       "        vertical-align: top;\n",
       "    }\n",
       "\n",
       "    .dataframe thead th {\n",
       "        text-align: right;\n",
       "    }\n",
       "</style>\n",
       "<table border=\"1\" class=\"dataframe\">\n",
       "  <thead>\n",
       "    <tr style=\"text-align: right;\">\n",
       "      <th></th>\n",
       "      <th>Order ID</th>\n",
       "      <th>Order Date</th>\n",
       "      <th>Ship Date</th>\n",
       "      <th>Ship Mode</th>\n",
       "      <th>Customer ID</th>\n",
       "      <th>Segment</th>\n",
       "      <th>State</th>\n",
       "      <th>Postal Code</th>\n",
       "      <th>Region</th>\n",
       "      <th>Product ID</th>\n",
       "      <th>Category</th>\n",
       "      <th>Sub-Category</th>\n",
       "      <th>Sales</th>\n",
       "      <th>Quantity</th>\n",
       "      <th>Discount</th>\n",
       "      <th>Profit</th>\n",
       "      <th>Ship Time</th>\n",
       "    </tr>\n",
       "    <tr>\n",
       "      <th>Row ID</th>\n",
       "      <th></th>\n",
       "      <th></th>\n",
       "      <th></th>\n",
       "      <th></th>\n",
       "      <th></th>\n",
       "      <th></th>\n",
       "      <th></th>\n",
       "      <th></th>\n",
       "      <th></th>\n",
       "      <th></th>\n",
       "      <th></th>\n",
       "      <th></th>\n",
       "      <th></th>\n",
       "      <th></th>\n",
       "      <th></th>\n",
       "      <th></th>\n",
       "      <th></th>\n",
       "    </tr>\n",
       "  </thead>\n",
       "  <tbody>\n",
       "    <tr>\n",
       "      <th>1</th>\n",
       "      <td>CA-2016-152156</td>\n",
       "      <td>2016-11-08</td>\n",
       "      <td>2016-11-11</td>\n",
       "      <td>Second Class</td>\n",
       "      <td>CG-12520</td>\n",
       "      <td>Consumer</td>\n",
       "      <td>Kentucky</td>\n",
       "      <td>42420</td>\n",
       "      <td>South</td>\n",
       "      <td>FUR-BO-10001798</td>\n",
       "      <td>Furniture</td>\n",
       "      <td>Bookcases</td>\n",
       "      <td>261.96</td>\n",
       "      <td>2</td>\n",
       "      <td>0.00</td>\n",
       "      <td>41.91</td>\n",
       "      <td>3</td>\n",
       "    </tr>\n",
       "    <tr>\n",
       "      <th>2</th>\n",
       "      <td>CA-2016-152156</td>\n",
       "      <td>2016-11-08</td>\n",
       "      <td>2016-11-11</td>\n",
       "      <td>Second Class</td>\n",
       "      <td>CG-12520</td>\n",
       "      <td>Consumer</td>\n",
       "      <td>Kentucky</td>\n",
       "      <td>42420</td>\n",
       "      <td>South</td>\n",
       "      <td>FUR-CH-10000454</td>\n",
       "      <td>Furniture</td>\n",
       "      <td>Chairs</td>\n",
       "      <td>731.94</td>\n",
       "      <td>3</td>\n",
       "      <td>0.00</td>\n",
       "      <td>219.58</td>\n",
       "      <td>3</td>\n",
       "    </tr>\n",
       "    <tr>\n",
       "      <th>3</th>\n",
       "      <td>CA-2016-138688</td>\n",
       "      <td>2016-06-12</td>\n",
       "      <td>2016-06-16</td>\n",
       "      <td>Second Class</td>\n",
       "      <td>DV-13045</td>\n",
       "      <td>Corporate</td>\n",
       "      <td>California</td>\n",
       "      <td>90036</td>\n",
       "      <td>West</td>\n",
       "      <td>OFF-LA-10000240</td>\n",
       "      <td>Office Supplies</td>\n",
       "      <td>Labels</td>\n",
       "      <td>14.62</td>\n",
       "      <td>2</td>\n",
       "      <td>0.00</td>\n",
       "      <td>6.87</td>\n",
       "      <td>4</td>\n",
       "    </tr>\n",
       "    <tr>\n",
       "      <th>4</th>\n",
       "      <td>US-2015-108966</td>\n",
       "      <td>2015-10-11</td>\n",
       "      <td>2015-10-18</td>\n",
       "      <td>Standard Class</td>\n",
       "      <td>SO-20335</td>\n",
       "      <td>Consumer</td>\n",
       "      <td>Florida</td>\n",
       "      <td>33311</td>\n",
       "      <td>South</td>\n",
       "      <td>FUR-TA-10000577</td>\n",
       "      <td>Furniture</td>\n",
       "      <td>Tables</td>\n",
       "      <td>957.58</td>\n",
       "      <td>5</td>\n",
       "      <td>0.45</td>\n",
       "      <td>-383.03</td>\n",
       "      <td>7</td>\n",
       "    </tr>\n",
       "    <tr>\n",
       "      <th>5</th>\n",
       "      <td>US-2015-108966</td>\n",
       "      <td>2015-10-11</td>\n",
       "      <td>2015-10-18</td>\n",
       "      <td>Standard Class</td>\n",
       "      <td>SO-20335</td>\n",
       "      <td>Consumer</td>\n",
       "      <td>Florida</td>\n",
       "      <td>33311</td>\n",
       "      <td>South</td>\n",
       "      <td>OFF-ST-10000760</td>\n",
       "      <td>Office Supplies</td>\n",
       "      <td>Storage</td>\n",
       "      <td>22.37</td>\n",
       "      <td>2</td>\n",
       "      <td>0.20</td>\n",
       "      <td>2.52</td>\n",
       "      <td>7</td>\n",
       "    </tr>\n",
       "  </tbody>\n",
       "</table>\n",
       "</div>"
      ],
      "text/plain": [
       "              Order ID Order Date  Ship Date       Ship Mode Customer ID  \\\n",
       "Row ID                                                                     \n",
       "1       CA-2016-152156 2016-11-08 2016-11-11    Second Class    CG-12520   \n",
       "2       CA-2016-152156 2016-11-08 2016-11-11    Second Class    CG-12520   \n",
       "3       CA-2016-138688 2016-06-12 2016-06-16    Second Class    DV-13045   \n",
       "4       US-2015-108966 2015-10-11 2015-10-18  Standard Class    SO-20335   \n",
       "5       US-2015-108966 2015-10-11 2015-10-18  Standard Class    SO-20335   \n",
       "\n",
       "          Segment       State  Postal Code Region       Product ID  \\\n",
       "Row ID                                                               \n",
       "1        Consumer    Kentucky        42420  South  FUR-BO-10001798   \n",
       "2        Consumer    Kentucky        42420  South  FUR-CH-10000454   \n",
       "3       Corporate  California        90036   West  OFF-LA-10000240   \n",
       "4        Consumer     Florida        33311  South  FUR-TA-10000577   \n",
       "5        Consumer     Florida        33311  South  OFF-ST-10000760   \n",
       "\n",
       "               Category Sub-Category   Sales  Quantity  Discount  Profit  \\\n",
       "Row ID                                                                     \n",
       "1             Furniture    Bookcases  261.96         2      0.00   41.91   \n",
       "2             Furniture       Chairs  731.94         3      0.00  219.58   \n",
       "3       Office Supplies       Labels   14.62         2      0.00    6.87   \n",
       "4             Furniture       Tables  957.58         5      0.45 -383.03   \n",
       "5       Office Supplies      Storage   22.37         2      0.20    2.52   \n",
       "\n",
       "        Ship Time  \n",
       "Row ID             \n",
       "1               3  \n",
       "2               3  \n",
       "3               4  \n",
       "4               7  \n",
       "5               7  "
      ]
     },
     "execution_count": 2,
     "metadata": {},
     "output_type": "execute_result"
    }
   ],
   "source": [
    "trans_df = pd.read_csv(\"../sales_data.csv\", encoding='unicode_escape', index_col='Row ID', skipinitialspace=True)\n",
    "\n",
    "# clean up data formats\n",
    "trans_df['Profit'] = round(trans_df['Profit'], 2)\n",
    "trans_df['Sales'] = round(trans_df['Sales'], 2)\n",
    "trans_df['Order Date'] = pd.to_datetime(trans_df['Order Date'])\n",
    "trans_df['Ship Date'] = pd.to_datetime(trans_df['Ship Date'])\n",
    "trans_df['Ship Time'] = (trans_df['Ship Date'] - trans_df['Order Date']).dt.days\n",
    "\n",
    "# drop less important columns\n",
    "trans_df = trans_df.drop(columns=['Country', 'City', 'Customer Name', 'Product Name'])\n",
    "print(trans_df.shape)\n",
    "trans_df.head()"
   ]
  },
  {
   "cell_type": "markdown",
   "metadata": {},
   "source": [
    "### 1b. Numerical Feature Correlations\n",
    "\n",
    "From the feature correlation matrix below, we observe the following three relationships, though none of them particularly strong:  \n",
    "\n",
    "**Sales and Profit (+0.48)**: Not surprising, since a profitable item often has high sales. However, this correlation is weakened in the case of high-sales, high-cost items, or lower-sales, very low-cost items.\n",
    "\n",
    "**Discount and Profit (-0.22)**: I suspected that there might be a bit of a correlation here, since often a store may have certain items on discount because they need to get rid of them quickly. Although the correlation is weak, I decided to explore this relationship further in the machine learning model to come. \n",
    "\n",
    "**Sales and Quantity (+0.20)**: Also not surprising that there's a hint of relationship, though there are too many examples of expensive single quantity transactions.\n",
    "\n",
    "The `Ship Time` and `Postal Code` features did not correlate with any other numerical feature"
   ]
  },
  {
   "cell_type": "code",
   "execution_count": 3,
   "metadata": {},
   "outputs": [
    {
     "data": {
      "image/png": "[encoded data removed]",
      "text/plain": [
       "<Figure size 432x288 with 2 Axes>"
      ]
     },
     "metadata": {
      "needs_background": "light"
     },
     "output_type": "display_data"
    }
   ],
   "source": [
    "correlations = trans_df.corr()\n",
    "correlations[np.abs(correlations) < 0.2] = 0\n",
    "sns.heatmap(correlations, annot=True)\n",
    "plt.show()"
   ]
  },
  {
   "cell_type": "markdown",
   "metadata": {},
   "source": [
    "A negative relationship between discount and profit (-0.75) becomes apparent  when I express profit categorically, in a new feature called `Profitable`. It takes on a binary value, where 0 represents an unprofitable transaction and 1 represents a profitable one. When profit stays numerical, it probably weakens the corrrelation, since we were incorrectly imposing that a heavier discount results in a heavier loss linearly. In addition, discounts fall in a discrete range while profit is unbounded, so the constraints of these two features is different. With a `Profitable` column, a negative feedback caused by a discount is still retained, but we no longer have to assume a linear relation between the two features."
   ]
  },
  {
   "cell_type": "code",
   "execution_count": 4,
   "metadata": {},
   "outputs": [
    {
     "data": {
      "image/png": "[encoded data removed]",
      "text/plain": [
       "<Figure size 432x288 with 2 Axes>"
      ]
     },
     "metadata": {
      "needs_background": "light"
     },
     "output_type": "display_data"
    }
   ],
   "source": [
    "trans_df['Profitable'] = np.where(trans_df['Profit'] < 0, 0, 1)\n",
    "correlations = trans_df.loc[:, ~trans_df.columns.isin(['Ship Time','Postal Code'])].corr()\n",
    "correlations[np.abs(correlations) < 0.2] = 0\n",
    "sns.heatmap(correlations, annot=True)\n",
    "plt.show()"
   ]
  },
  {
   "cell_type": "markdown",
   "metadata": {},
   "source": [
    "## 2. Profitability Model\n",
    "\n",
    "With the relationship between `Discount` and `Profitable` established, I decided to train a machine learning model that predicts whether a transaction is profitable or not. "
   ]
  },
  {
   "cell_type": "markdown",
   "metadata": {},
   "source": [
    "### 2a. Base Model\n",
    "\n",
    "For the training and testing sets, I usually stick with an 80-20 split. An interesting fact I came across is that this ratio is actually captured in the Pareto Principle, which states that about 80% of consequences come from 20% of causes. \n",
    "\n",
    "To train the model, I used Catboost, a gradient boosting decision tree library. In particular, I chose it over other alternatives like XGBoost and LightGBM because it has better support for categorical data. To avoid overfitting, I included another parameter `early_stopping_rounds`, which stops training the model if the validation results do not improve after a certain number of iterations. \n",
    "\n",
    "Using `Discount` as the only feature, here are the baseline results:  \n",
    "\n",
    "**roc_auc score:** 0.85556  \n",
    "**accuracy:** 94.35%  \n",
    "821 True Unprofitable, 23 False Unprofitable, 4838 True Profitable, 314 False Profitable"
   ]
  },
  {
   "cell_type": "code",
   "execution_count": 5,
   "metadata": {},
   "outputs": [
    {
     "data": {
      "text/plain": [
       "((7995, 1), (5996, 1), (7995, 1), (5996, 1), (1999, 1), (1999, 1))"
      ]
     },
     "execution_count": 5,
     "metadata": {},
     "output_type": "execute_result"
    }
   ],
   "source": [
    "Xb = trans_df[['Discount']]\n",
    "yb = trans_df[['Profitable']]\n",
    "Xb_train, Xb_test, yb_train, yb_test = train_test_split(Xb, yb, test_size=0.2)\n",
    "Xb_test, Xb_val, yb_test, yb_val = train_test_split(Xb_train, yb_train, test_size=0.25)\n",
    "\n",
    "Xb_train.shape, Xb_test.shape, yb_train.shape, yb_test.shape, Xb_val.shape, yb_val.shape"
   ]
  },
  {
   "cell_type": "code",
   "execution_count": 6,
   "metadata": {},
   "outputs": [
    {
     "name": "stdout",
     "output_type": "stream",
     "text": [
      "roc_auc: 0.85755\n",
      "accuracy: 94.35%\n",
      "(True Unp, False P, False Unp, True P): (803, 311, 28, 4854)\n"
     ]
    }
   ],
   "source": [
    "base_model = CatBoostClassifier()\n",
    "base_model.fit(Xb_train, yb_train, eval_set=(Xb_val, yb_val), early_stopping_rounds=10, verbose=0)\n",
    "\n",
    "y_base_pred = base_model.predict(Xb_test)\n",
    "roc_auc = roc_auc_score(yb_test, y_base_pred)\n",
    "accuracy = accuracy_score(yb_test, y_base_pred)\n",
    "print(f\"roc_auc: {roc_auc:.5f}\")\n",
    "print(f\"accuracy: {(accuracy*100):.2f}%\")\n",
    "\n",
    "tn, fp, fn, tp = confusion_matrix(yb_test, y_base_pred).ravel()\n",
    "print(f\"(True Unp, False P, False Unp, True P): {(tn, fp, fn, tp)}\")"
   ]
  },
  {
   "cell_type": "markdown",
   "metadata": {},
   "source": [
    "### 2b. Revised Model\n",
    "\n",
    "Let's take a closer look at the categorical features to see if including any of them would improve the base model.  \n",
    "Before that, categorical features need to be numerically-encoded to be useful in analysis. I considered one-hot encoding, frequency encoding, and CatBoost encoding.\n",
    "- One-hot encoding is not suitable for this dataset as it increases dimensionality too much. We would need 49 new columns to encode just the `State` feature, and 16 new columns for `Sub-Category` feature!\n",
    "- Frequency encoding appeared to be a viable alternative, where the encoding depends on how many times a category appears in the column. However, it is problematic when multiple encodings appear the same amount of times. When this happens, the features melt together into one and we lose valuable information about the dataset. \n",
    "- Ultimately, I choose to stick with CatBoost's default encoding, which is similar to encoding categorical features based on information about the target variable. It also does not add any dimensionality to the data."
   ]
  },
  {
   "cell_type": "code",
   "execution_count": 7,
   "metadata": {},
   "outputs": [
    {
     "data": {
      "text/html": [
       "<div>\n",
       "<style scoped>\n",
       "    .dataframe tbody tr th:only-of-type {\n",
       "        vertical-align: middle;\n",
       "    }\n",
       "\n",
       "    .dataframe tbody tr th {\n",
       "        vertical-align: top;\n",
       "    }\n",
       "\n",
       "    .dataframe thead th {\n",
       "        text-align: right;\n",
       "    }\n",
       "</style>\n",
       "<table border=\"1\" class=\"dataframe\">\n",
       "  <thead>\n",
       "    <tr style=\"text-align: right;\">\n",
       "      <th></th>\n",
       "      <th>Order ID</th>\n",
       "      <th>Order Date</th>\n",
       "      <th>Ship Date</th>\n",
       "      <th>Ship Mode</th>\n",
       "      <th>Customer ID</th>\n",
       "      <th>Segment</th>\n",
       "      <th>State</th>\n",
       "      <th>Postal Code</th>\n",
       "      <th>Region</th>\n",
       "      <th>Product ID</th>\n",
       "      <th>Category</th>\n",
       "      <th>Sub-Category</th>\n",
       "      <th>Sales</th>\n",
       "      <th>Quantity</th>\n",
       "      <th>Discount</th>\n",
       "      <th>Profit</th>\n",
       "      <th>Ship Time</th>\n",
       "      <th>Profitable</th>\n",
       "    </tr>\n",
       "    <tr>\n",
       "      <th>Row ID</th>\n",
       "      <th></th>\n",
       "      <th></th>\n",
       "      <th></th>\n",
       "      <th></th>\n",
       "      <th></th>\n",
       "      <th></th>\n",
       "      <th></th>\n",
       "      <th></th>\n",
       "      <th></th>\n",
       "      <th></th>\n",
       "      <th></th>\n",
       "      <th></th>\n",
       "      <th></th>\n",
       "      <th></th>\n",
       "      <th></th>\n",
       "      <th></th>\n",
       "      <th></th>\n",
       "      <th></th>\n",
       "    </tr>\n",
       "  </thead>\n",
       "  <tbody>\n",
       "    <tr>\n",
       "      <th>1</th>\n",
       "      <td>CA-2016-152156</td>\n",
       "      <td>2016-11-08</td>\n",
       "      <td>2016-11-11</td>\n",
       "      <td>0.842144</td>\n",
       "      <td>0.802131</td>\n",
       "      <td>0.806782</td>\n",
       "      <td>0.998663</td>\n",
       "      <td>0.996179</td>\n",
       "      <td>0.840107</td>\n",
       "      <td>0.562558</td>\n",
       "      <td>0.663437</td>\n",
       "      <td>0.523200</td>\n",
       "      <td>261.96</td>\n",
       "      <td>2</td>\n",
       "      <td>0.00</td>\n",
       "      <td>41.91</td>\n",
       "      <td>3</td>\n",
       "      <td>1</td>\n",
       "    </tr>\n",
       "    <tr>\n",
       "      <th>2</th>\n",
       "      <td>CA-2016-152156</td>\n",
       "      <td>2016-11-08</td>\n",
       "      <td>2016-11-11</td>\n",
       "      <td>0.842144</td>\n",
       "      <td>0.802131</td>\n",
       "      <td>0.806782</td>\n",
       "      <td>0.998663</td>\n",
       "      <td>0.996179</td>\n",
       "      <td>0.840107</td>\n",
       "      <td>0.985599</td>\n",
       "      <td>0.663437</td>\n",
       "      <td>0.619438</td>\n",
       "      <td>731.94</td>\n",
       "      <td>3</td>\n",
       "      <td>0.00</td>\n",
       "      <td>219.58</td>\n",
       "      <td>3</td>\n",
       "      <td>1</td>\n",
       "    </tr>\n",
       "    <tr>\n",
       "      <th>3</th>\n",
       "      <td>CA-2016-138688</td>\n",
       "      <td>2016-06-12</td>\n",
       "      <td>2016-06-16</td>\n",
       "      <td>0.842144</td>\n",
       "      <td>0.581279</td>\n",
       "      <td>0.815893</td>\n",
       "      <td>0.947459</td>\n",
       "      <td>0.965958</td>\n",
       "      <td>0.900691</td>\n",
       "      <td>0.976598</td>\n",
       "      <td>0.852964</td>\n",
       "      <td>0.999487</td>\n",
       "      <td>14.62</td>\n",
       "      <td>2</td>\n",
       "      <td>0.00</td>\n",
       "      <td>6.87</td>\n",
       "      <td>4</td>\n",
       "      <td>1</td>\n",
       "    </tr>\n",
       "    <tr>\n",
       "      <th>4</th>\n",
       "      <td>US-2015-108966</td>\n",
       "      <td>2015-10-11</td>\n",
       "      <td>2015-10-18</td>\n",
       "      <td>0.803453</td>\n",
       "      <td>0.800799</td>\n",
       "      <td>0.806782</td>\n",
       "      <td>0.671387</td>\n",
       "      <td>0.613299</td>\n",
       "      <td>0.840107</td>\n",
       "      <td>0.423643</td>\n",
       "      <td>0.663437</td>\n",
       "      <td>0.365040</td>\n",
       "      <td>957.58</td>\n",
       "      <td>5</td>\n",
       "      <td>0.45</td>\n",
       "      <td>-383.03</td>\n",
       "      <td>7</td>\n",
       "      <td>0</td>\n",
       "    </tr>\n",
       "    <tr>\n",
       "      <th>5</th>\n",
       "      <td>US-2015-108966</td>\n",
       "      <td>2015-10-11</td>\n",
       "      <td>2015-10-18</td>\n",
       "      <td>0.803453</td>\n",
       "      <td>0.800799</td>\n",
       "      <td>0.806782</td>\n",
       "      <td>0.671387</td>\n",
       "      <td>0.613299</td>\n",
       "      <td>0.840107</td>\n",
       "      <td>0.968798</td>\n",
       "      <td>0.852964</td>\n",
       "      <td>0.809696</td>\n",
       "      <td>22.37</td>\n",
       "      <td>2</td>\n",
       "      <td>0.20</td>\n",
       "      <td>2.52</td>\n",
       "      <td>7</td>\n",
       "      <td>1</td>\n",
       "    </tr>\n",
       "  </tbody>\n",
       "</table>\n",
       "</div>"
      ],
      "text/plain": [
       "              Order ID Order Date  Ship Date  Ship Mode  Customer ID  \\\n",
       "Row ID                                                                 \n",
       "1       CA-2016-152156 2016-11-08 2016-11-11   0.842144     0.802131   \n",
       "2       CA-2016-152156 2016-11-08 2016-11-11   0.842144     0.802131   \n",
       "3       CA-2016-138688 2016-06-12 2016-06-16   0.842144     0.581279   \n",
       "4       US-2015-108966 2015-10-11 2015-10-18   0.803453     0.800799   \n",
       "5       US-2015-108966 2015-10-11 2015-10-18   0.803453     0.800799   \n",
       "\n",
       "         Segment     State  Postal Code    Region  Product ID  Category  \\\n",
       "Row ID                                                                    \n",
       "1       0.806782  0.998663     0.996179  0.840107    0.562558  0.663437   \n",
       "2       0.806782  0.998663     0.996179  0.840107    0.985599  0.663437   \n",
       "3       0.815893  0.947459     0.965958  0.900691    0.976598  0.852964   \n",
       "4       0.806782  0.671387     0.613299  0.840107    0.423643  0.663437   \n",
       "5       0.806782  0.671387     0.613299  0.840107    0.968798  0.852964   \n",
       "\n",
       "        Sub-Category   Sales  Quantity  Discount  Profit  Ship Time  \\\n",
       "Row ID                                                                \n",
       "1           0.523200  261.96         2      0.00   41.91          3   \n",
       "2           0.619438  731.94         3      0.00  219.58          3   \n",
       "3           0.999487   14.62         2      0.00    6.87          4   \n",
       "4           0.365040  957.58         5      0.45 -383.03          7   \n",
       "5           0.809696   22.37         2      0.20    2.52          7   \n",
       "\n",
       "        Profitable  \n",
       "Row ID              \n",
       "1                1  \n",
       "2                1  \n",
       "3                1  \n",
       "4                0  \n",
       "5                1  "
      ]
     },
     "execution_count": 7,
     "metadata": {},
     "output_type": "execute_result"
    }
   ],
   "source": [
    "cat_cols = ['Ship Mode', 'Segment', 'State', 'Product ID', 'Category', 'Sub-Category', 'Region', 'Customer ID', 'Postal Code']\n",
    "encoder = ce.CatBoostEncoder(cols=cat_cols)\n",
    "encoder.fit(trans_df.loc[:, trans_df.columns != 'Profitable'], trans_df['Profitable'])\n",
    "\n",
    "trans_df_enc = encoder.transform(trans_df.loc[:, trans_df.columns != 'Profitable'])\n",
    "trans_df_enc['Profitable'] = trans_df['Profitable']\n",
    "trans_df_enc.head()"
   ]
  },
  {
   "cell_type": "markdown",
   "metadata": {},
   "source": [
    "Now, let's take a look a more detailed correlation matrix incorporating all the encoded categorical features and `Profitable`. Since the `Ship Mode`, `Segment`, and `Quantity` features did not have a correlation above 0.3 to any other variable, I dropped them to reduce some dimensionality. Here were some meaningful relationships not apparent before:\n",
    "\n",
    "**Discount and State (-0.70)**: This one surprised me the most, as logically it seems that discounts should be  randomly-dispersed by state. I decided to create a model using the `Discount` feature in the following section.\n",
    "\n",
    "Features related to `Profitable`: **Product ID and Profitable (+0.63)**, **State and Profitable (+0.52)**, and **Sub-Category and Profitable (+0.44)**  "
   ]
  },
  {
   "cell_type": "code",
   "execution_count": 8,
   "metadata": {},
   "outputs": [
    {
     "data": {
      "image/png": "[encoded data removed]",
      "text/plain": [
       "<Figure size 432x288 with 2 Axes>"
      ]
     },
     "metadata": {
      "needs_background": "light"
     },
     "output_type": "display_data"
    }
   ],
   "source": [
    "correlations = trans_df_enc.loc[:, ~trans_df_enc.columns.isin(['Ship Time','Postal Code', 'Ship Mode', 'Segment', 'Quantity'])].corr()\n",
    "correlations[np.abs(correlations) < 0.2] = 0\n",
    "sns.heatmap(correlations, annot=True)\n",
    "plt.show()"
   ]
  },
  {
   "cell_type": "markdown",
   "metadata": {},
   "source": [
    "`Product ID`, `State`, and `Sub-category` are all important features for us to determine profitability of a transaction. First, I only added `Product ID` to the model. The performance improved a lot, with accuracy consistently topping 99.5% and roc-auc score being almost 1. This was more than enough, since adding a third feature, `State` or `Sub-Category`, leads to no improvements and the validation results start getting worse after a smaller number of iterations, meaning that it is more prone to overfitting."
   ]
  },
  {
   "cell_type": "code",
   "execution_count": 9,
   "metadata": {},
   "outputs": [
    {
     "data": {
      "text/plain": [
       "((7995, 2), (5996, 2), (7995, 1), (5996, 1), (1999, 2), (1999, 1))"
      ]
     },
     "execution_count": 9,
     "metadata": {},
     "output_type": "execute_result"
    }
   ],
   "source": [
    "X_rev = trans_df[['Discount','Product ID']]\n",
    "y_rev = trans_df[['Profitable']]\n",
    "X_rev_train, X_rev_test, y_rev_train, y_rev_test = train_test_split(X_rev, y_rev, test_size=0.2)\n",
    "X_rev_test, X_rev_val, y_rev_test, y_rev_val = train_test_split(X_rev_train, y_rev_train, test_size=0.25)\n",
    "\n",
    "X_rev_train.shape, X_rev_test.shape, y_rev_train.shape, y_rev_test.shape, X_rev_val.shape, y_rev_val.shape"
   ]
  },
  {
   "cell_type": "code",
   "execution_count": 10,
   "metadata": {},
   "outputs": [
    {
     "name": "stdout",
     "output_type": "stream",
     "text": [
      "roc_auc: 0.99768\n",
      "accuracy: 99.90%\n",
      "(True Unp, False P, False Unp, True P): (1124, 5, 1, 4866)\n"
     ]
    }
   ],
   "source": [
    "fin_model = CatBoostClassifier()\n",
    "fin_model.fit(X_rev, y_rev, cat_features=['Product ID'], eval_set=(X_rev_val, y_rev_val), verbose=0)\n",
    "\n",
    "y_pred = fin_model.predict(X_rev_test)\n",
    "roc_auc = roc_auc_score(y_rev_test, y_pred)\n",
    "accuracy = accuracy_score(y_rev_test, y_pred)\n",
    "print(f\"roc_auc: {roc_auc:.5f}\")\n",
    "print(f\"accuracy: {(accuracy*100):.2f}%\")\n",
    "\n",
    "tn, fp, fn, tp = confusion_matrix(y_rev_test, y_pred).ravel()\n",
    "print(f\"(True Unp, False P, False Unp, True P): {(tn, fp, fn, tp)}\")"
   ]
  },
  {
   "cell_type": "markdown",
   "metadata": {},
   "source": [
    "## 3. Discount Model\n",
    "\n",
    "Seeing that the transaction discount correlated to many other features in the dataset, I decided to create a regression model that would predict the amount of discount applied on a given transaction. By simply using the features with highest correlation to `Discount` from the matrix, the model outputs nearly perfect predictions. \n",
    "\n",
    "**r-squared:** 0.9933, **rmse:** 0.0003"
   ]
  },
  {
   "cell_type": "code",
   "execution_count": 11,
   "metadata": {},
   "outputs": [
    {
     "data": {
      "text/plain": [
       "((7995, 3), (5996, 3), (7995, 1), (5996, 1))"
      ]
     },
     "execution_count": 11,
     "metadata": {},
     "output_type": "execute_result"
    }
   ],
   "source": [
    "X_disc = trans_df[['Profitable','Sub-Category', 'State']]\n",
    "y_disc = trans_df[['Discount']]\n",
    "X_disc_train, X_disc_test, y_disc_train, y_disc_test = train_test_split(X_disc, y_disc, test_size=0.2)\n",
    "X_disc_test, X_disc_val, y_disc_test, y_disc_val = train_test_split(X_disc_train, y_disc_train, test_size=0.25)\n",
    "\n",
    "X_disc_train.shape, X_disc_test.shape, y_disc_train.shape, y_disc_test.shape"
   ]
  },
  {
   "cell_type": "code",
   "execution_count": 12,
   "metadata": {},
   "outputs": [
    {
     "name": "stdout",
     "output_type": "stream",
     "text": [
      "r^2: 0.9926\n",
      "rmse: 0.0003\n"
     ]
    }
   ],
   "source": [
    "disc_model = CatBoostRegressor(n_estimators=1500, depth=4, l2_leaf_reg=0.001, early_stopping_rounds=10, verbose=0)\n",
    "disc_model.fit(X_disc, y_disc, eval_set=(X_disc_val, y_disc_val), cat_features=['Sub-Category', 'State'])\n",
    "\n",
    "y_disc_pred = np.round(disc_model.predict(X_disc_test), 2)\n",
    "r2 = r2_score(y_disc_test, y_disc_pred)\n",
    "rmse = mean_squared_error(y_disc_test, y_disc_pred)\n",
    "print(f\"r^2: {r2:.4f}\")\n",
    "print(f\"rmse: {rmse:.4f}\")"
   ]
  },
  {
   "cell_type": "markdown",
   "metadata": {},
   "source": [
    "### 4. Sub-Category Model\n",
    "\n",
    "### 4a. Base Model\n",
    "The final model I designed was one that could predict an transaction's sub-category. I first referred to the correlation matrix created above, which shows that the `Discount` and `Profitable` columns have a stronger correlation to `Sub-Category`. However, the model had an accuracy less than 30%. The relationship between the features and the target is more complex and non-linear, so the correlation matrix is misleading here. \n",
    "\n",
    "Instead, I decided to intuitively pick the features. I strived to pick the least amount of columns to make the predictions, so that the model does not overfit and is generalizable to unseen transactions. There are some obvious categories that would defeat the purpose of this model, like `Product ID` and `Category`, so I could eliminate those columns right away. \n",
    "\n",
    "This leaves us with the following features: `Profit`, `Profitable`, `State`, `Region`, `Postal Code`, `Ship Time`, `Segment`, `Ship Mode`, `Customer ID`, `Sales`, `Quantity`, and `Discount`. Here were some of my considerations: \n",
    "\n",
    "(1) Choose `Profit` or `Profitable`, as we only need one feature that gives profit information. \n",
    "\n",
    "(2) `State`, `Region`, and `Postal Code` encode very similar information, so I decided it would be best to include the one of these three that improved the model the most. \n",
    "\n",
    "(3) `Ship Time`, `Segment`, `Ship Mode`, and `Customer ID` were the least correlated in the matrix, but I decided to include one of these four for completeness.\n",
    "\n",
    "(4) `Sales`, `Quantity`, and `Discount` were more up in the air, though I was learning towards including `Sales` or `Quantity` (or both) more"
   ]
  },
  {
   "cell_type": "markdown",
   "metadata": {},
   "source": [
    "Here are my base model results:\n",
    "\n",
    "**Features:** `State`, `Profitable`, `Sales`, `Segment` | **Accuracy: 28.75%**"
   ]
  },
  {
   "cell_type": "markdown",
   "metadata": {},
   "source": [
    "### 4b. Modification 1\n",
    "To resolve Consideration (1), I replaced `Profitable` with `Profit`, a sizeable improvement: \n",
    "\n",
    "**Features:** `State`, `Profit`, `Sales`, `Segment` | **Accuracy: 50.55%**"
   ]
  },
  {
   "cell_type": "markdown",
   "metadata": {},
   "source": [
    "### 4c. Modification 2\n",
    "\n",
    "Next, to resolve Consideration (2), I replaced `State` with `Postal Code` to see if some more granularity in geographical information would help the model.\n",
    "\n",
    "**Features:** `Postal Code`, `Profit`, `Sales`, `Segment` | **Accuracy: 57.32%**"
   ]
  },
  {
   "cell_type": "markdown",
   "metadata": {},
   "source": [
    "### 4d. Modification 3\n",
    "\n",
    "Now, for consideration (3), I replaced `Segment` with `Ship Time`, `Ship Mode`, or `Customer ID`. We see that `Ship Time` results in the best accuracy, and that `Ship Mode` and `Customer ID` actually hurt the model: \n",
    "\n",
    "<mark>**Features:** `Postal Code`, `Profit`, `Sales`, `Ship Time` | **Accuracy: 69.00%**</mark>\n",
    "\n",
    "**Features:** `Postal Code`, `Profit`, `Sales` | **Accuracy: 66.11%**\n",
    "\n",
    "**Features:** `Postal Code`, `Profit`, `Sales`, `Ship Mode` | **Accuracy: 59.32%**\n",
    "\n",
    "**Features:** `Postal Code`, `Profit`, `Sales`, `Customer ID` | **Accuracy: 51.15%**"
   ]
  },
  {
   "cell_type": "markdown",
   "metadata": {},
   "source": [
    "### 4e. Modification 4\n",
    "\n",
    "Finally, below are the results for consideration (4), between the `Sales`, `Quantity`, and `Discount` features. The `Sales` feature is the most important of the three, and the accuracy receives a further boost with either `Quantity` or `Discount` as an additional feature. \n",
    "\n",
    "<mark>**Features:** `Postal Code`, `Profit`, `Sales`, `Quantity`, `Ship Time` | **Accuracy: 77.35%**<mark>\n",
    "\n",
    "**Features:** `Postal Code`, `Profit`, `Sales`, `Discount`, `Ship Time` | **Accuracy: 76.92%**\n",
    "\n",
    "**Features:** `Postal Code`, `Profit`, `Quantity`, `Discount`, `Ship Time` | **Accuracy: 69.80%**\n",
    "\n",
    "**Features:** `Postal Code`, `Profit`, `Sales`, `Ship Time` | **Accuracy: 69.00%**"
   ]
  },
  {
   "cell_type": "markdown",
   "metadata": {},
   "source": [
    "### 4f. Hyperparameter Tuning\n",
    "\n",
    "I decided to do some hyperparameter tuning on the best feature configuration to see how much I could bump up the accuracy. The following setup below employs an exhaustive grid search on the `depth`, `learning_rate`, and`l2_leaf_reg` parameters in Catboost. These parameters were recommended in their documentation to improve training convergence and stability. "
   ]
  },
  {
   "cell_type": "code",
   "execution_count": 14,
   "metadata": {},
   "outputs": [],
   "source": [
    "# hyperparameter grid search \n",
    "tuning = False\n",
    "\n",
    "if tuning:\n",
    "    params = {\n",
    "        'depth': [3, 4, 5, 6, 7, 8],\n",
    "        'learning_rate': [0.1, 0.2, 0.3, 0.4, 0.5],\n",
    "        'l2_leaf_reg': [0.0001, 0.001]\n",
    "    }\n",
    "\n",
    "    model_grid = GridSearchCV(estimator=CatBoostClassifier(), param_grid=params, scoring='accuracy')\n",
    "    model_grid.fit(X_subc_train, y_subc_train, eval_set=(X_subc_val, y_subc_val), cat_features=['Category'], early_stopping_rounds=10)\n",
    "\n",
    "    print(\"Results from Grid Search\")\n",
    "    print(f\"The best estimator across search space: {model_grid.best_estimator_}\")\n",
    "    print(f\"The best score across search space: {model_grid.best_score_}\")\n",
    "    print(f\"The best params across search space: {model_grid.best_params_}\")"
   ]
  },
  {
   "cell_type": "markdown",
   "metadata": {},
   "source": [
    "Before hyper-parameter tuning: `depth=3, learning_rate=0.113064, l2_leaf_reg=3`\n",
    "\n",
    "**Features:** `Postal Code`, `Profit`, `Sales`, `Quantity`, `Ship Time` | **Accuracy: 77.35%**\n",
    "    \n",
    "After hyper-parameter tuning: `depth=7, learning_rate=0.2, l2_leaf_reg=0.001`\n",
    "\n",
    "<mark> **Features:** `Postal Code`, `Profit`, `Sales`, `Quantity`, `Ship Time` | **Accuracy: 99.62%** <mark>"
   ]
  },
  {
   "cell_type": "code",
   "execution_count": 16,
   "metadata": {},
   "outputs": [
    {
     "data": {
      "text/plain": [
       "((7995, 5), (5996, 5), (7995, 1), (5996, 1))"
      ]
     },
     "execution_count": 16,
     "metadata": {},
     "output_type": "execute_result"
    }
   ],
   "source": [
    "X_subc = trans_df[['Postal Code', 'Profit', 'Quantity', 'Discount', 'Ship Time']]\n",
    "y_subc = trans_df[['Sub-Category']]\n",
    "\n",
    "X_subc_train, X_subc_test, y_subc_train, y_subc_test = train_test_split(X_subc, y_subc, test_size=0.2)\n",
    "X_subc_test, X_subc_val, y_subc_test, y_subc_val = train_test_split(X_subc_train, y_subc_train, test_size=0.25)\n",
    "\n",
    "X_subc_train.shape, X_subc_test.shape, y_subc_train.shape, y_subc_test.shape"
   ]
  },
  {
   "cell_type": "code",
   "execution_count": 17,
   "metadata": {},
   "outputs": [
    {
     "name": "stdout",
     "output_type": "stream",
     "text": [
      "accuracy: 99.70%\n"
     ]
    }
   ],
   "source": [
    "subc_model = CatBoostClassifier(n_estimators=1000, depth=7, l2_leaf_reg=0.001, learning_rate=0.2, early_stopping_rounds=10, verbose=0)\n",
    "subc_model.fit(X_subc, y_subc, eval_set=(X_subc_val, y_subc_val))\n",
    "\n",
    "y_subc_pred = subc_model.predict(X_subc_test)\n",
    "accuracy = accuracy_score(np.array(y_subc_test), np.array(y_subc_pred))\n",
    "print(f\"accuracy: {(accuracy*100):.2f}%\")"
   ]
  },
  {
   "cell_type": "markdown",
   "metadata": {},
   "source": [
    "## 5. Summary\n",
    "\n",
    "From the sales data, we can do the following three things with great confidence:\n",
    "\n",
    "(1) Given `Discount` and `Product ID` of a transaction, we can predict whether that transaction results in a net gain or loss with **~99.8% accuracy**. \n",
    "\n",
    "(2) Given the `Sub-Category`, `State`, and profitability of a transaction, we can predict the exact discount percentage applied on the transaction with about an **r-squared of 0.992**.\n",
    "\n",
    "(3) Given the `Postal Code`, `Profit`, `Quantity`, `Discount`, and `Ship Time` of a transaction, we can predict the `Sub-Category` of a transaction with **~99.6% accuracy**."
   ]
  }
 ],
 "metadata": {
  "interpreter": {
   "hash": "07d57a8811146a9e6c611a3e5eda58e9551101ddf79138856437c9c8ede776ac"
  },
  "kernelspec": {
   "display_name": "Python 3",
   "language": "python",
   "name": "python3"
  },
  "language_info": {
   "codemirror_mode": {
    "name": "ipython",
    "version": 3
   },
   "file_extension": ".py",
   "mimetype": "text/x-python",
   "name": "python",
   "nbconvert_exporter": "python",
   "pygments_lexer": "ipython3",
   "version": "3.8.5"
  }
 },
 "nbformat": 4,
 "nbformat_minor": 2
}
